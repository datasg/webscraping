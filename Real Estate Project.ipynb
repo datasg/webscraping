{
 "cells": [
  {
   "cell_type": "code",
   "execution_count": 1,
   "metadata": {},
   "outputs": [],
   "source": [
    "import pandas as pd"
   ]
  },
  {
   "cell_type": "code",
   "execution_count": 2,
   "metadata": {},
   "outputs": [],
   "source": [
    "import matplotlib.pyplot as plt"
   ]
  },
  {
   "cell_type": "code",
   "execution_count": 11,
   "metadata": {},
   "outputs": [],
   "source": [
    "import numpy as np"
   ]
  },
  {
   "cell_type": "code",
   "execution_count": 3,
   "metadata": {},
   "outputs": [],
   "source": [
    "rent = pd.read_csv(r\"C:\\Users\\Gottlieb\\Downloads\\brooklyn.csv\")"
   ]
  },
  {
   "cell_type": "code",
   "execution_count": 4,
   "metadata": {},
   "outputs": [],
   "source": [
    "rent_q = pd.read_csv(r\"C:\\Users\\Gottlieb\\Downloads\\queens.csv\")"
   ]
  },
  {
   "cell_type": "code",
   "execution_count": null,
   "metadata": {},
   "outputs": [],
   "source": [
    "# see distribution of both datasets in table. The bedroom size contained extra variables so I cleaned in excel."
   ]
  },
  {
   "cell_type": "code",
   "execution_count": 5,
   "metadata": {},
   "outputs": [
    {
     "data": {
      "text/html": [
       "<div>\n",
       "<style scoped>\n",
       "    .dataframe tbody tr th:only-of-type {\n",
       "        vertical-align: middle;\n",
       "    }\n",
       "\n",
       "    .dataframe tbody tr th {\n",
       "        vertical-align: top;\n",
       "    }\n",
       "\n",
       "    .dataframe thead th {\n",
       "        text-align: right;\n",
       "    }\n",
       "</style>\n",
       "<table border=\"1\" class=\"dataframe\">\n",
       "  <thead>\n",
       "    <tr style=\"text-align: right;\">\n",
       "      <th></th>\n",
       "      <th>count</th>\n",
       "      <th>unique</th>\n",
       "      <th>top</th>\n",
       "      <th>freq</th>\n",
       "    </tr>\n",
       "    <tr>\n",
       "      <th>size</th>\n",
       "      <th></th>\n",
       "      <th></th>\n",
       "      <th></th>\n",
       "      <th></th>\n",
       "    </tr>\n",
       "  </thead>\n",
       "  <tbody>\n",
       "    <tr>\n",
       "      <td>1br</td>\n",
       "      <td>780</td>\n",
       "      <td>182</td>\n",
       "      <td>$1,950</td>\n",
       "      <td>45</td>\n",
       "    </tr>\n",
       "    <tr>\n",
       "      <td>2br</td>\n",
       "      <td>1029</td>\n",
       "      <td>209</td>\n",
       "      <td>$2,500</td>\n",
       "      <td>58</td>\n",
       "    </tr>\n",
       "    <tr>\n",
       "      <td>3br</td>\n",
       "      <td>615</td>\n",
       "      <td>137</td>\n",
       "      <td>$2,600</td>\n",
       "      <td>29</td>\n",
       "    </tr>\n",
       "    <tr>\n",
       "      <td>4br</td>\n",
       "      <td>201</td>\n",
       "      <td>69</td>\n",
       "      <td>$4,099</td>\n",
       "      <td>17</td>\n",
       "    </tr>\n",
       "    <tr>\n",
       "      <td>5br</td>\n",
       "      <td>25</td>\n",
       "      <td>11</td>\n",
       "      <td>$4,999</td>\n",
       "      <td>8</td>\n",
       "    </tr>\n",
       "    <tr>\n",
       "      <td>6br</td>\n",
       "      <td>3</td>\n",
       "      <td>3</td>\n",
       "      <td>$10,999</td>\n",
       "      <td>1</td>\n",
       "    </tr>\n",
       "    <tr>\n",
       "      <td>7br</td>\n",
       "      <td>5</td>\n",
       "      <td>1</td>\n",
       "      <td>$13,850</td>\n",
       "      <td>5</td>\n",
       "    </tr>\n",
       "    <tr>\n",
       "      <td>8br</td>\n",
       "      <td>1</td>\n",
       "      <td>1</td>\n",
       "      <td>$12,000</td>\n",
       "      <td>1</td>\n",
       "    </tr>\n",
       "  </tbody>\n",
       "</table>\n",
       "</div>"
      ],
      "text/plain": [
       "     count unique       top freq\n",
       "size                            \n",
       "1br    780    182   $1,950    45\n",
       "2br   1029    209   $2,500    58\n",
       "3br    615    137   $2,600    29\n",
       "4br    201     69   $4,099    17\n",
       "5br     25     11   $4,999     8\n",
       "6br      3      3  $10,999     1\n",
       "7br      5      1  $13,850     5\n",
       "8br      1      1  $12,000     1"
      ]
     },
     "execution_count": 5,
     "metadata": {},
     "output_type": "execute_result"
    }
   ],
   "source": [
    "rent.groupby('size')['price'].describe()"
   ]
  },
  {
   "cell_type": "code",
   "execution_count": 6,
   "metadata": {},
   "outputs": [
    {
     "data": {
      "text/html": [
       "<div>\n",
       "<style scoped>\n",
       "    .dataframe tbody tr th:only-of-type {\n",
       "        vertical-align: middle;\n",
       "    }\n",
       "\n",
       "    .dataframe tbody tr th {\n",
       "        vertical-align: top;\n",
       "    }\n",
       "\n",
       "    .dataframe thead th {\n",
       "        text-align: right;\n",
       "    }\n",
       "</style>\n",
       "<table border=\"1\" class=\"dataframe\">\n",
       "  <thead>\n",
       "    <tr style=\"text-align: right;\">\n",
       "      <th></th>\n",
       "      <th>count</th>\n",
       "      <th>unique</th>\n",
       "      <th>top</th>\n",
       "      <th>freq</th>\n",
       "    </tr>\n",
       "    <tr>\n",
       "      <th>size</th>\n",
       "      <th></th>\n",
       "      <th></th>\n",
       "      <th></th>\n",
       "      <th></th>\n",
       "    </tr>\n",
       "  </thead>\n",
       "  <tbody>\n",
       "    <tr>\n",
       "      <td>1br</td>\n",
       "      <td>915</td>\n",
       "      <td>171</td>\n",
       "      <td>$1,750</td>\n",
       "      <td>70</td>\n",
       "    </tr>\n",
       "    <tr>\n",
       "      <td>2br</td>\n",
       "      <td>722</td>\n",
       "      <td>135</td>\n",
       "      <td>$2,000</td>\n",
       "      <td>54</td>\n",
       "    </tr>\n",
       "    <tr>\n",
       "      <td>3br</td>\n",
       "      <td>523</td>\n",
       "      <td>98</td>\n",
       "      <td>$2,500</td>\n",
       "      <td>52</td>\n",
       "    </tr>\n",
       "    <tr>\n",
       "      <td>4br</td>\n",
       "      <td>64</td>\n",
       "      <td>32</td>\n",
       "      <td>$2,800</td>\n",
       "      <td>8</td>\n",
       "    </tr>\n",
       "    <tr>\n",
       "      <td>5br</td>\n",
       "      <td>4</td>\n",
       "      <td>3</td>\n",
       "      <td>$3,200</td>\n",
       "      <td>2</td>\n",
       "    </tr>\n",
       "    <tr>\n",
       "      <td>6br</td>\n",
       "      <td>1</td>\n",
       "      <td>1</td>\n",
       "      <td>$5,300</td>\n",
       "      <td>1</td>\n",
       "    </tr>\n",
       "    <tr>\n",
       "      <td>7br</td>\n",
       "      <td>1</td>\n",
       "      <td>1</td>\n",
       "      <td>$8,000</td>\n",
       "      <td>1</td>\n",
       "    </tr>\n",
       "  </tbody>\n",
       "</table>\n",
       "</div>"
      ],
      "text/plain": [
       "     count unique      top freq\n",
       "size                           \n",
       "1br    915    171  $1,750    70\n",
       "2br    722    135  $2,000    54\n",
       "3br    523     98  $2,500    52\n",
       "4br     64     32  $2,800     8\n",
       "5br      4      3  $3,200     2\n",
       "6br      1      1  $5,300     1\n",
       "7br      1      1  $8,000     1"
      ]
     },
     "execution_count": 6,
     "metadata": {},
     "output_type": "execute_result"
    }
   ],
   "source": [
    "rent_q.groupby('size')['price'].describe()"
   ]
  },
  {
   "cell_type": "code",
   "execution_count": null,
   "metadata": {},
   "outputs": [],
   "source": [
    "# see sample of all the fields"
   ]
  },
  {
   "cell_type": "code",
   "execution_count": 7,
   "metadata": {},
   "outputs": [
    {
     "data": {
      "text/html": [
       "<div>\n",
       "<style scoped>\n",
       "    .dataframe tbody tr th:only-of-type {\n",
       "        vertical-align: middle;\n",
       "    }\n",
       "\n",
       "    .dataframe tbody tr th {\n",
       "        vertical-align: top;\n",
       "    }\n",
       "\n",
       "    .dataframe thead th {\n",
       "        text-align: right;\n",
       "    }\n",
       "</style>\n",
       "<table border=\"1\" class=\"dataframe\">\n",
       "  <thead>\n",
       "    <tr style=\"text-align: right;\">\n",
       "      <th></th>\n",
       "      <th>area</th>\n",
       "      <th>date</th>\n",
       "      <th>description</th>\n",
       "      <th>price</th>\n",
       "      <th>size</th>\n",
       "    </tr>\n",
       "  </thead>\n",
       "  <tbody>\n",
       "    <tr>\n",
       "      <td>0</td>\n",
       "      <td>(Carroll gardens)</td>\n",
       "      <td>1/28/2020 9:31</td>\n",
       "      <td>Lovely one bedroom in Carroll gardens with pri...</td>\n",
       "      <td>$3,600</td>\n",
       "      <td>1br</td>\n",
       "    </tr>\n",
       "    <tr>\n",
       "      <td>1</td>\n",
       "      <td>(Bed-Stuy)</td>\n",
       "      <td>1/28/2020 9:03</td>\n",
       "      <td>Bed-Stuy Jewel💚WON'T LAST LONG💚Laundry💚A,C🚆TRU...</td>\n",
       "      <td>$2,150</td>\n",
       "      <td>1br</td>\n",
       "    </tr>\n",
       "    <tr>\n",
       "      <td>2</td>\n",
       "      <td>(Crown Heights / Weeksville)</td>\n",
       "      <td>1/27/2020 21:38</td>\n",
       "      <td>2/1 Rent-stabilized pet-friendly penthouse in ...</td>\n",
       "      <td>$2,400</td>\n",
       "      <td>1br</td>\n",
       "    </tr>\n",
       "    <tr>\n",
       "      <td>3</td>\n",
       "      <td>(Stuyvesant Heights, Brooklyn, NY)</td>\n",
       "      <td>1/27/2020 20:48</td>\n",
       "      <td>HIIYOOOO!!! AWESOME 1BR AVAILABLE in BEDSTUY ⚡️⚡️</td>\n",
       "      <td>$1,899</td>\n",
       "      <td>1br</td>\n",
       "    </tr>\n",
       "    <tr>\n",
       "      <td>4</td>\n",
       "      <td>(🛑 SUNSET PARK ----EDWIN EGA - 347-432-6463)</td>\n",
       "      <td>1/27/2020 18:54</td>\n",
       "      <td>Sunset Park__1 BR Brownstone__near EXPRESS TRA...</td>\n",
       "      <td>$2,095</td>\n",
       "      <td>1br</td>\n",
       "    </tr>\n",
       "  </tbody>\n",
       "</table>\n",
       "</div>"
      ],
      "text/plain": [
       "                                            area             date  \\\n",
       "0                              (Carroll gardens)   1/28/2020 9:31   \n",
       "1                                     (Bed-Stuy)   1/28/2020 9:03   \n",
       "2                   (Crown Heights / Weeksville)  1/27/2020 21:38   \n",
       "3             (Stuyvesant Heights, Brooklyn, NY)  1/27/2020 20:48   \n",
       "4   (🛑 SUNSET PARK ----EDWIN EGA - 347-432-6463)  1/27/2020 18:54   \n",
       "\n",
       "                                         description    price size  \n",
       "0  Lovely one bedroom in Carroll gardens with pri...  $3,600   1br  \n",
       "1  Bed-Stuy Jewel💚WON'T LAST LONG💚Laundry💚A,C🚆TRU...  $2,150   1br  \n",
       "2  2/1 Rent-stabilized pet-friendly penthouse in ...  $2,400   1br  \n",
       "3  HIIYOOOO!!! AWESOME 1BR AVAILABLE in BEDSTUY ⚡️⚡️  $1,899   1br  \n",
       "4  Sunset Park__1 BR Brownstone__near EXPRESS TRA...  $2,095   1br  "
      ]
     },
     "execution_count": 7,
     "metadata": {},
     "output_type": "execute_result"
    }
   ],
   "source": [
    "rent.head()"
   ]
  },
  {
   "cell_type": "code",
   "execution_count": 8,
   "metadata": {},
   "outputs": [
    {
     "data": {
      "text/html": [
       "<div>\n",
       "<style scoped>\n",
       "    .dataframe tbody tr th:only-of-type {\n",
       "        vertical-align: middle;\n",
       "    }\n",
       "\n",
       "    .dataframe tbody tr th {\n",
       "        vertical-align: top;\n",
       "    }\n",
       "\n",
       "    .dataframe thead th {\n",
       "        text-align: right;\n",
       "    }\n",
       "</style>\n",
       "<table border=\"1\" class=\"dataframe\">\n",
       "  <thead>\n",
       "    <tr style=\"text-align: right;\">\n",
       "      <th></th>\n",
       "      <th>area</th>\n",
       "      <th>date</th>\n",
       "      <th>description</th>\n",
       "      <th>price</th>\n",
       "      <th>size</th>\n",
       "    </tr>\n",
       "  </thead>\n",
       "  <tbody>\n",
       "    <tr>\n",
       "      <td>0</td>\n",
       "      <td>(Carroll gardens)</td>\n",
       "      <td>1/28/2020 9:31</td>\n",
       "      <td>Lovely one bedroom in Carroll gardens with pri...</td>\n",
       "      <td>$3,600</td>\n",
       "      <td>1br</td>\n",
       "    </tr>\n",
       "    <tr>\n",
       "      <td>1</td>\n",
       "      <td>(Bed-Stuy)</td>\n",
       "      <td>1/28/2020 9:03</td>\n",
       "      <td>Bed-Stuy Jewel💚WON'T LAST LONG💚Laundry💚A,C🚆TRU...</td>\n",
       "      <td>$2,150</td>\n",
       "      <td>1br</td>\n",
       "    </tr>\n",
       "    <tr>\n",
       "      <td>2</td>\n",
       "      <td>(Crown Heights / Weeksville)</td>\n",
       "      <td>1/27/2020 21:38</td>\n",
       "      <td>2/1 Rent-stabilized pet-friendly penthouse in ...</td>\n",
       "      <td>$2,400</td>\n",
       "      <td>1br</td>\n",
       "    </tr>\n",
       "    <tr>\n",
       "      <td>3</td>\n",
       "      <td>(Stuyvesant Heights, Brooklyn, NY)</td>\n",
       "      <td>1/27/2020 20:48</td>\n",
       "      <td>HIIYOOOO!!! AWESOME 1BR AVAILABLE in BEDSTUY ⚡️⚡️</td>\n",
       "      <td>$1,899</td>\n",
       "      <td>1br</td>\n",
       "    </tr>\n",
       "    <tr>\n",
       "      <td>4</td>\n",
       "      <td>(🛑 SUNSET PARK ----EDWIN EGA - 347-432-6463)</td>\n",
       "      <td>1/27/2020 18:54</td>\n",
       "      <td>Sunset Park__1 BR Brownstone__near EXPRESS TRA...</td>\n",
       "      <td>$2,095</td>\n",
       "      <td>1br</td>\n",
       "    </tr>\n",
       "    <tr>\n",
       "      <td>...</td>\n",
       "      <td>...</td>\n",
       "      <td>...</td>\n",
       "      <td>...</td>\n",
       "      <td>...</td>\n",
       "      <td>...</td>\n",
       "    </tr>\n",
       "    <tr>\n",
       "      <td>2912</td>\n",
       "      <td>(Clinton Hill)</td>\n",
       "      <td>1/27/2020 0:21</td>\n",
       "      <td>True lux condo available ***March 1*** Laundry...</td>\n",
       "      <td>$2,650</td>\n",
       "      <td>NaN</td>\n",
       "    </tr>\n",
       "    <tr>\n",
       "      <td>2913</td>\n",
       "      <td>(131 Washington Ave)</td>\n",
       "      <td>1/26/2020 21:31</td>\n",
       "      <td>Beautiful 2 Bedroom Fort Greene Apartment! ^NO...</td>\n",
       "      <td>$3,599</td>\n",
       "      <td>NaN</td>\n",
       "    </tr>\n",
       "    <tr>\n",
       "      <td>2914</td>\n",
       "      <td>(Prospect Park South / Flatbush)</td>\n",
       "      <td>1/26/2020 19:11</td>\n",
       "      <td>NEW TO MARKET! Large STUDIO Close to Prospect ...</td>\n",
       "      <td>$1,595</td>\n",
       "      <td>NaN</td>\n",
       "    </tr>\n",
       "    <tr>\n",
       "      <td>2915</td>\n",
       "      <td>(Prospect park south)</td>\n",
       "      <td>1/26/2020 18:43</td>\n",
       "      <td>Brand New Studio in Prospect Park South, Right...</td>\n",
       "      <td>$1,595</td>\n",
       "      <td>NaN</td>\n",
       "    </tr>\n",
       "    <tr>\n",
       "      <td>2916</td>\n",
       "      <td>(BUSHWICK)</td>\n",
       "      <td>1/26/2020 18:27</td>\n",
       "      <td>2 bed 1 bath | Laundry in building | Renovated...</td>\n",
       "      <td>$2,131</td>\n",
       "      <td>NaN</td>\n",
       "    </tr>\n",
       "  </tbody>\n",
       "</table>\n",
       "<p>2917 rows × 5 columns</p>\n",
       "</div>"
      ],
      "text/plain": [
       "                                               area             date  \\\n",
       "0                                 (Carroll gardens)   1/28/2020 9:31   \n",
       "1                                        (Bed-Stuy)   1/28/2020 9:03   \n",
       "2                      (Crown Heights / Weeksville)  1/27/2020 21:38   \n",
       "3                (Stuyvesant Heights, Brooklyn, NY)  1/27/2020 20:48   \n",
       "4      (🛑 SUNSET PARK ----EDWIN EGA - 347-432-6463)  1/27/2020 18:54   \n",
       "...                                             ...              ...   \n",
       "2912                                 (Clinton Hill)   1/27/2020 0:21   \n",
       "2913                           (131 Washington Ave)  1/26/2020 21:31   \n",
       "2914               (Prospect Park South / Flatbush)  1/26/2020 19:11   \n",
       "2915                          (Prospect park south)  1/26/2020 18:43   \n",
       "2916                                     (BUSHWICK)  1/26/2020 18:27   \n",
       "\n",
       "                                            description    price size  \n",
       "0     Lovely one bedroom in Carroll gardens with pri...  $3,600   1br  \n",
       "1     Bed-Stuy Jewel💚WON'T LAST LONG💚Laundry💚A,C🚆TRU...  $2,150   1br  \n",
       "2     2/1 Rent-stabilized pet-friendly penthouse in ...  $2,400   1br  \n",
       "3     HIIYOOOO!!! AWESOME 1BR AVAILABLE in BEDSTUY ⚡️⚡️  $1,899   1br  \n",
       "4     Sunset Park__1 BR Brownstone__near EXPRESS TRA...  $2,095   1br  \n",
       "...                                                 ...      ...  ...  \n",
       "2912  True lux condo available ***March 1*** Laundry...  $2,650   NaN  \n",
       "2913  Beautiful 2 Bedroom Fort Greene Apartment! ^NO...  $3,599   NaN  \n",
       "2914  NEW TO MARKET! Large STUDIO Close to Prospect ...  $1,595   NaN  \n",
       "2915  Brand New Studio in Prospect Park South, Right...  $1,595   NaN  \n",
       "2916  2 bed 1 bath | Laundry in building | Renovated...  $2,131   NaN  \n",
       "\n",
       "[2917 rows x 5 columns]"
      ]
     },
     "execution_count": 8,
     "metadata": {},
     "output_type": "execute_result"
    }
   ],
   "source": [
    "rent"
   ]
  },
  {
   "cell_type": "code",
   "execution_count": null,
   "metadata": {},
   "outputs": [],
   "source": [
    "# see rent based on neighborhood. Did not capture all data b/c many names are used for same area."
   ]
  },
  {
   "cell_type": "code",
   "execution_count": 9,
   "metadata": {},
   "outputs": [
    {
     "data": {
      "text/plain": [
       " (Brooklyn)                                        193\n",
       " (Bushwick)                                        170\n",
       " (Crown Heights)                                   149\n",
       " (Williamsburg)                                    132\n",
       " (Clinton Hill)                                     54\n",
       "                                                  ... \n",
       " (Prospect Park South @ Church Ave B, Q Trains)      1\n",
       " (Nassau Av G - Greenpoint)                          1\n",
       " (Manhattan beach/sheepshead)                        1\n",
       " (bed stuy)                                          1\n",
       " (Old Mill Basin)                                    1\n",
       "Name: area, Length: 743, dtype: int64"
      ]
     },
     "execution_count": 9,
     "metadata": {},
     "output_type": "execute_result"
    }
   ],
   "source": [
    "rent['area'].value_counts()"
   ]
  },
  {
   "cell_type": "code",
   "execution_count": 10,
   "metadata": {},
   "outputs": [
    {
     "data": {
      "text/plain": [
       " (Astoria)                      316\n",
       " (Ridgewood)                    109\n",
       " (Long Island City)             108\n",
       " (ASTORIA)                       87\n",
       " (Flushing)                      81\n",
       "                               ... \n",
       " (Chelsea)                        1\n",
       " (Glendale queens NY)             1\n",
       " (Richmond Hill/Kew Gardens)      1\n",
       " (Downtown Flushing)              1\n",
       " (Saint Albans)                   1\n",
       "Name: area, Length: 527, dtype: int64"
      ]
     },
     "execution_count": 10,
     "metadata": {},
     "output_type": "execute_result"
    }
   ],
   "source": [
    "rent_q['area'].value_counts()"
   ]
  },
  {
   "cell_type": "code",
   "execution_count": null,
   "metadata": {},
   "outputs": [],
   "source": [
    "# remove symbols from data to create histogram"
   ]
  },
  {
   "cell_type": "code",
   "execution_count": 12,
   "metadata": {},
   "outputs": [],
   "source": [
    "price_clean = rent.price.apply(lambda s: int(s.replace('$', '').replace(',', '')))"
   ]
  },
  {
   "cell_type": "code",
   "execution_count": 13,
   "metadata": {},
   "outputs": [],
   "source": [
    "price_cleanq = rent_q.price.apply(lambda s: int(s.replace('$', '').replace(',', '')))"
   ]
  },
  {
   "cell_type": "code",
   "execution_count": null,
   "metadata": {},
   "outputs": [],
   "source": [
    "# remove outlier from data"
   ]
  },
  {
   "cell_type": "code",
   "execution_count": 14,
   "metadata": {},
   "outputs": [],
   "source": [
    "price_clean = price_clean[price_clean != 664000]"
   ]
  },
  {
   "cell_type": "code",
   "execution_count": 15,
   "metadata": {},
   "outputs": [],
   "source": [
    "plt.style.use('ggplot')"
   ]
  },
  {
   "cell_type": "code",
   "execution_count": null,
   "metadata": {},
   "outputs": [],
   "source": [
    "# Histogram of Brooklyn rental prices"
   ]
  },
  {
   "cell_type": "code",
   "execution_count": 16,
   "metadata": {},
   "outputs": [
    {
     "data": {
      "text/plain": [
       "(array([4.000e+00, 3.800e+01, 6.880e+02, 1.184e+03, 4.860e+02, 2.940e+02,\n",
       "        1.080e+02, 5.100e+01, 2.700e+01, 1.000e+01, 6.000e+00, 6.000e+00,\n",
       "        5.000e+00, 0.000e+00, 1.000e+00, 1.000e+00, 0.000e+00, 2.000e+00,\n",
       "        0.000e+00, 5.000e+00]),\n",
       " array([    0. ,   692.5,  1385. ,  2077.5,  2770. ,  3462.5,  4155. ,\n",
       "         4847.5,  5540. ,  6232.5,  6925. ,  7617.5,  8310. ,  9002.5,\n",
       "         9695. , 10387.5, 11080. , 11772.5, 12465. , 13157.5, 13850. ]),\n",
       " <a list of 20 Patch objects>)"
      ]
     },
     "execution_count": 16,
     "metadata": {},
     "output_type": "execute_result"
    },
    {
     "data": {
      "image/png": "[encoded data removed]",
      "text/plain": [
       "<Figure size 432x288 with 1 Axes>"
      ]
     },
     "metadata": {},
     "output_type": "display_data"
    }
   ],
   "source": [
    "plt.hist(price_clean, bins = 20, color=\"#5ee3ff\")"
   ]
  },
  {
   "cell_type": "code",
   "execution_count": null,
   "metadata": {},
   "outputs": [],
   "source": [
    "# Histogram of Queens rental prices"
   ]
  },
  {
   "cell_type": "code",
   "execution_count": 17,
   "metadata": {},
   "outputs": [
    {
     "data": {
      "text/plain": [
       "(array([ 48.,  11.,  85., 265., 787., 515., 466., 190.,  84.,  37.,  19.,\n",
       "         10.,   3.,   4.,   3.,   0.,   1.,   0.,   0.,   1.]),\n",
       " array([1.00000e+00, 4.00950e+02, 8.00900e+02, 1.20085e+03, 1.60080e+03,\n",
       "        2.00075e+03, 2.40070e+03, 2.80065e+03, 3.20060e+03, 3.60055e+03,\n",
       "        4.00050e+03, 4.40045e+03, 4.80040e+03, 5.20035e+03, 5.60030e+03,\n",
       "        6.00025e+03, 6.40020e+03, 6.80015e+03, 7.20010e+03, 7.60005e+03,\n",
       "        8.00000e+03]),\n",
       " <a list of 20 Patch objects>)"
      ]
     },
     "execution_count": 17,
     "metadata": {},
     "output_type": "execute_result"
    },
    {
     "data": {
      "image/png": "[encoded data removed]",
      "text/plain": [
       "<Figure size 432x288 with 1 Axes>"
      ]
     },
     "metadata": {},
     "output_type": "display_data"
    }
   ],
   "source": [
    "plt.hist(price_cleanq, bins = 20, color=\"#5ee3ff\")"
   ]
  },
  {
   "cell_type": "code",
   "execution_count": null,
   "metadata": {},
   "outputs": [],
   "source": []
  }
 ],
 "metadata": {
  "kernelspec": {
   "display_name": "Python 3",
   "language": "python",
   "name": "python3"
  },
  "language_info": {
   "codemirror_mode": {
    "name": "ipython",
    "version": 3
   },
   "file_extension": ".py",
   "mimetype": "text/x-python",
   "name": "python",
   "nbconvert_exporter": "python",
   "pygments_lexer": "ipython3",
   "version": "3.7.4"
  }
 },
 "nbformat": 4,
 "nbformat_minor": 2
}
